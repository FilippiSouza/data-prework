{
 "cells": [
  {
   "cell_type": "markdown",
   "metadata": {},
   "source": [
    "<img src=\"https://bit.ly/2VnXWr2\" width=\"100\" align=\"left\">"
   ]
  },
  {
   "cell_type": "markdown",
   "metadata": {},
   "source": [
    "# Rock, Paper & Scissors\n",
    "\n",
    "Let's play the famous game against our computer. You can check the rules [here](https://en.wikipedia.org/wiki/Rock%E2%80%93paper%E2%80%93scissors). \n",
    "\n",
    "## Task\n",
    "Create a program that imitates the playability of the well known game of rock, paper, scissors. Follow the guidelines provided.\n",
    "\n",
    "## Tools\n",
    "1. Loop: **for/while**\n",
    "2. Functions: **input(), print()...**\n",
    "3. Conditional statements: **if, elif, else**\n",
    "4. Definition of functions. Modular programming\n",
    "5. Import modules\n",
    "\n",
    "**To solve this challenge, the use of functions is recommended.**\n",
    "\n",
    "#### 1. Import the choice function of the random module."
   ]
  },
  {
   "cell_type": "code",
   "execution_count": 157,
   "metadata": {},
   "outputs": [],
   "source": [
    "import random"
   ]
  },
  {
   "cell_type": "markdown",
   "metadata": {},
   "source": [
    "#### 2. Create a list that includes the 3 possible gesture options of the game: 'rock', 'paper' or 'scissors'. Store the list in a variable called `gestures`."
   ]
  },
  {
   "cell_type": "code",
   "execution_count": 158,
   "metadata": {},
   "outputs": [],
   "source": [
    "gestures = [\"rock\", \"paper\", \"scissors\"]"
   ]
  },
  {
   "cell_type": "markdown",
   "metadata": {},
   "source": [
    "#### 3. Create a variable called `n_rounds` to store the maximum number of rounds to play in a game. \n",
    "Remember that the number of rounds must be odd: 1, 3, 5, ..."
   ]
  },
  {
   "cell_type": "code",
   "execution_count": 159,
   "metadata": {},
   "outputs": [],
   "source": [
    "n_rounds = 3\n",
    "current_round = 1"
   ]
  },
  {
   "cell_type": "markdown",
   "metadata": {},
   "source": [
    "#### 4. Create a variable called `rounds_to_win` to store the number of rounds that a player must win to win the game.\n",
    "**Hint**: the value stored in `rounds_to_win` depends on the value of `n_rounds`. "
   ]
  },
  {
   "cell_type": "code",
   "execution_count": 160,
   "metadata": {},
   "outputs": [
    {
     "name": "stdout",
     "output_type": "stream",
     "text": [
      "2\n"
     ]
    }
   ],
   "source": [
    "rounds_to_win = round(n_rounds/2 +1)\n",
    "\n",
    "print(rounds_to_win)"
   ]
  },
  {
   "cell_type": "markdown",
   "metadata": {},
   "source": [
    "#### 5. Create two variables to store the number of rounds that the computer and the player have won. Call these variables `cpu_score` and `player_score`."
   ]
  },
  {
   "cell_type": "code",
   "execution_count": 161,
   "metadata": {},
   "outputs": [],
   "source": [
    "cpu_score = 0 \n",
    "player_score = 0"
   ]
  },
  {
   "cell_type": "markdown",
   "metadata": {},
   "source": [
    "#### 6. Define a function that randomly returns one of the 3 gesture options.\n",
    "You will use this function to simulate the gesture choice of the computer. "
   ]
  },
  {
   "cell_type": "code",
   "execution_count": 162,
   "metadata": {},
   "outputs": [],
   "source": [
    "def comp_play():\n",
    "    global gestures\n",
    "    gesture = random.choice(gestures)\n",
    "    computer_play = gestures.index(gesture)\n",
    "    return computer_play"
   ]
  },
  {
   "cell_type": "markdown",
   "metadata": {},
   "source": [
    "#### 7. Define a function that asks the player which is the gesture he or she wants to show: 'rock', 'paper' or 'scissors'.\n",
    "The player should only be allowed to choose one of the 3 gesture options. If the player's choice is not rock, paper or scissors, keep asking until it is."
   ]
  },
  {
   "cell_type": "code",
   "execution_count": 163,
   "metadata": {
    "scrolled": true
   },
   "outputs": [],
   "source": [
    "def ask_for_play():\n",
    "    global current_round\n",
    "    human_play = input(\"[ROUND \"+ str(current_round) +\"] Choose which gesture you want to play. Type the respective number! \\n1 - ROCK \\n2 - PAPER \\n3 - SCRISSORS\\n\")\n",
    "    while human_play != str(1) and human_play != str(2) and human_play != str(3):\n",
    "        human_play = input(\"INVALID INPUT. TRY AGAIN!\\nChoose which gesture you want to play. Type the respective number! \\n1 - ROCK \\n2 - PAPER \\n3 - SCRISSORS\\n\")\n",
    "    current_round += 1\n",
    "    return int(human_play) -1\n",
    "    "
   ]
  },
  {
   "cell_type": "markdown",
   "metadata": {},
   "source": [
    "#### 8. Define a function that checks who won a round. \n",
    "The function should return 0 if there is a tie, 1 if the computer wins and 2 if the player wins."
   ]
  },
  {
   "cell_type": "code",
   "execution_count": 164,
   "metadata": {},
   "outputs": [],
   "source": [
    "def winner(human_play, computer_play):\n",
    "    if human_play == 0:\n",
    "        if computer_play == 1:\n",
    "            winner = 1\n",
    "        elif computer_play ==2:\n",
    "            winner = 2\n",
    "        else:\n",
    "            winner = 0\n",
    "    elif human_play == 1:\n",
    "        if computer_play == 0:\n",
    "            winner = 2\n",
    "        elif computer_play == 2:\n",
    "            winner = 1\n",
    "        else:\n",
    "            winner =0 \n",
    "    else:\n",
    "        if computer_play ==0:\n",
    "            winner = 1\n",
    "        elif computer_play ==1:\n",
    "            winner = 2\n",
    "        else:\n",
    "            winner =0    \n",
    "    return winner        \n",
    "    "
   ]
  },
  {
   "cell_type": "markdown",
   "metadata": {},
   "source": [
    "#### 9. Define a function that prints the choice of the computer, the choice of the player and a message that announces who won the current round. \n",
    "You should also use this function to update the variables that count the number of rounds that the computer and the player have won. The score of the winner increases by one point. If there is a tie, the score does not increase."
   ]
  },
  {
   "cell_type": "code",
   "execution_count": 165,
   "metadata": {},
   "outputs": [],
   "source": [
    "def result (human_play, computer_play, winner):\n",
    "    global gestures\n",
    "    global cpu_score\n",
    "    global player_score\n",
    "    players = [\"NO ONE\",\"the CPU\", \"YOU\"]\n",
    "    print(\"You have chosen \"+ gestures[int(human_play)])\n",
    "    print(\"Your opponent has chosen \" + gestures[int(computer_play)])\n",
    "    print(\"The winner of the round is \" + players[int(winner)])\n",
    "    if winner == 2:\n",
    "        player_score += 1\n",
    "    elif winner == 1:\n",
    "        cpu_score += 1"
   ]
  },
  {
   "cell_type": "markdown",
   "metadata": {},
   "source": [
    "#### 10. Now it's time to code the execution of the game using the functions and variables you defined above. \n",
    "\n",
    "First, create a loop structure that repeats while no player reaches the minimum score necessary to win and the number of rounds is less than the maximum number of rounds to play in a game.  \n",
    "\n",
    "Inside the loop, use the functions and variables above to create the execution of a round: ask for the player's choice, generate the random choice of the computer, show the round results, update the scores, etc. "
   ]
  },
  {
   "cell_type": "code",
   "execution_count": 166,
   "metadata": {},
   "outputs": [
    {
     "name": "stdout",
     "output_type": "stream",
     "text": [
      "[ROUND 1] Choose which gesture you want to play. Type the respective number! \n",
      "1 - ROCK \n",
      "2 - PAPER \n",
      "3 - SCRISSORS\n",
      "3\n",
      "You have chosen scissors\n",
      "Your opponent has chosen rock\n",
      "The winner of the round is the CPU\n",
      "[ROUND 2] Choose which gesture you want to play. Type the respective number! \n",
      "1 - ROCK \n",
      "2 - PAPER \n",
      "3 - SCRISSORS\n",
      "3\n",
      "You have chosen scissors\n",
      "Your opponent has chosen scissors\n",
      "The winner of the round is NO ONE\n",
      "[ROUND 3] Choose which gesture you want to play. Type the respective number! \n",
      "1 - ROCK \n",
      "2 - PAPER \n",
      "3 - SCRISSORS\n",
      "3\n",
      "You have chosen scissors\n",
      "Your opponent has chosen rock\n",
      "The winner of the round is the CPU\n"
     ]
    }
   ],
   "source": [
    "while player_score < rounds_to_win and cpu_score < rounds_to_win and current_round <= n_rounds :\n",
    "    computer = comp_play()\n",
    "    human = ask_for_play()\n",
    "    round_winner = winner(human, computer)\n",
    "    result(human, computer, round_winner)"
   ]
  },
  {
   "cell_type": "markdown",
   "metadata": {},
   "source": [
    "#### 11. Print the winner of the game based on who won more rounds.\n",
    "Remember that the game might be tied. "
   ]
  },
  {
   "cell_type": "code",
   "execution_count": 167,
   "metadata": {},
   "outputs": [
    {
     "name": "stdout",
     "output_type": "stream",
     "text": [
      "\n",
      "\n",
      "YOU LOSE!\n"
     ]
    }
   ],
   "source": [
    "print(\"\\n\")\n",
    "if cpu_score == player_score:\n",
    "    print(\"IT IS A TIE!\")\n",
    "elif cpu_score > player_score:\n",
    "    print(\"YOU LOSE!\")\n",
    "else:\n",
    "    print(\"YOU WIN!\")"
   ]
  },
  {
   "cell_type": "markdown",
   "metadata": {},
   "source": [
    "# Bonus: Rock, Paper, Scissors, Lizard & Spock\n",
    "![](images/rpsls.jpg)\n",
    "\n",
    "In this challenge, you need to improve the previous game by adding two new options. To know more about the rules of the improved version of rock, paper, scissors, check this [link](http://www.samkass.com/theories/RPSSL.html). \n",
    "\n",
    "In addition, you will also need to improve how the game interacts with the player: the number of rounds to play, which must be an odd number, will be requested to the user until a valid number is entered. Define a new function to make that request.\n",
    "\n",
    "**Hint**: Try to reuse the code that you already coded in the previous challenge. If your code is efficient, this bonus will only consist of simple modifications to the original game."
   ]
  },
  {
   "cell_type": "code",
   "execution_count": null,
   "metadata": {},
   "outputs": [],
   "source": []
  },
  {
   "cell_type": "markdown",
   "metadata": {},
   "source": [
    "## "
   ]
  }
 ],
 "metadata": {
  "kernelspec": {
   "display_name": "Python 3",
   "language": "python",
   "name": "python3"
  },
  "language_info": {
   "codemirror_mode": {
    "name": "ipython",
    "version": 3
   },
   "file_extension": ".py",
   "mimetype": "text/x-python",
   "name": "python",
   "nbconvert_exporter": "python",
   "pygments_lexer": "ipython3",
   "version": "3.9.1"
  }
 },
 "nbformat": 4,
 "nbformat_minor": 2
}
